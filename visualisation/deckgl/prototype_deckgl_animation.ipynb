{
 "cells": [
  {
   "cell_type": "code",
   "execution_count": 1,
   "id": "d35e519e-d1ed-4d3f-81bb-878e5ad9f8f8",
   "metadata": {},
   "outputs": [],
   "source": [
    "import time\n",
    "import pydeck as pdk\n",
    "import pandas as pd"
   ]
  },
  {
   "cell_type": "code",
   "execution_count": 2,
   "id": "30fda187-729b-4f8a-b500-c143f2a672ad",
   "metadata": {},
   "outputs": [],
   "source": [
    "# Set dummy path data (as the crow flies)\n",
    "\n",
    "# Animation time bounds\n",
    "time_min = 0\n",
    "time_max = 500\n",
    "\n",
    "data = {\"path\": [[[-73.628980, 45.486750], [-73.612941, 45.504738]]],\n",
    "        \"timestamps\": [[time_min, time_max]]}\n",
    "df = pd.DataFrame(data)"
   ]
  },
  {
   "cell_type": "code",
   "execution_count": 3,
   "id": "cdad23c7-2869-4858-bf8e-f16b76e54c10",
   "metadata": {},
   "outputs": [
    {
     "name": "stdout",
     "output_type": "stream",
     "text": [
      "                                               path timestamps\n",
      "0  [[-73.62898, 45.48675], [-73.612941, 45.504738]]   [0, 500]\n"
     ]
    }
   ],
   "source": [
    "print(df)"
   ]
  },
  {
   "cell_type": "code",
   "execution_count": 4,
   "id": "4cdf6f27-64b6-4bee-97c1-0be80d06f88b",
   "metadata": {},
   "outputs": [],
   "source": [
    "# Background map set to Montréal\n",
    "view_state = pdk.ViewState(latitude=45.497158, longitude=-73.621011, zoom=12)"
   ]
  },
  {
   "cell_type": "code",
   "execution_count": 5,
   "id": "36708a49-2ef8-4842-85d7-b4b28b21b258",
   "metadata": {},
   "outputs": [],
   "source": [
    "# Create the TripsLayer\n",
    "layer = pdk.Layer(\n",
    "    \"TripsLayer\",\n",
    "    df,\n",
    "    get_path=\"path\",\n",
    "    get_timestamps=\"timestamps\",\n",
    "    get_color=[253, 128, 93],\n",
    "    opacity=0.8,\n",
    "    width_min_pixels=5,\n",
    "    rounded=True,\n",
    "    trail_length=100,\n",
    "    current_time=0,\n",
    ")"
   ]
  },
  {
   "cell_type": "code",
   "execution_count": 6,
   "id": "fee9ee84-9f62-41d8-8776-baaa0eba013a",
   "metadata": {},
   "outputs": [
    {
     "ename": "ImportError",
     "evalue": "Install the Jupyter extra for pydeck with your package manager, e.g. `pip install pydeck[jupyter]`",
     "output_type": "error",
     "traceback": [
      "\u001b[0;31m---------------------------------------------------------------------------\u001b[0m",
      "\u001b[0;31mImportError\u001b[0m                               Traceback (most recent call last)",
      "Cell \u001b[0;32mIn[6], line 7\u001b[0m\n\u001b[1;32m      5\u001b[0m \u001b[38;5;28;01mfor\u001b[39;00m ct \u001b[38;5;129;01min\u001b[39;00m \u001b[38;5;28mrange\u001b[39m(time_min, time_max, \u001b[38;5;241m100\u001b[39m):\n\u001b[1;32m      6\u001b[0m     layer\u001b[38;5;241m.\u001b[39mcurrent_time \u001b[38;5;241m=\u001b[39m ct\n\u001b[0;32m----> 7\u001b[0m     \u001b[43mr\u001b[49m\u001b[38;5;241;43m.\u001b[39;49m\u001b[43mupdate\u001b[49m\u001b[43m(\u001b[49m\u001b[43m)\u001b[49m\n\u001b[1;32m      8\u001b[0m     time\u001b[38;5;241m.\u001b[39msleep(\u001b[38;5;241m0.1\u001b[39m)\n",
      "File \u001b[0;32m/opt/anaconda3/envs/deckgl/lib/python3.13/site-packages/pydeck/bindings/deck.py:159\u001b[0m, in \u001b[0;36mDeck.update\u001b[0;34m(self)\u001b[0m\n\u001b[1;32m    151\u001b[0m \u001b[38;5;250m\u001b[39m\u001b[38;5;124;03m\"\"\"Update a deck.gl map to reflect the current configuration\u001b[39;00m\n\u001b[1;32m    152\u001b[0m \n\u001b[1;32m    153\u001b[0m \u001b[38;5;124;03mFor example, if you've modified data passed to Layer and rendered the map using `.show()`,\u001b[39;00m\n\u001b[0;32m   (...)\u001b[0m\n\u001b[1;32m    156\u001b[0m \u001b[38;5;124;03mIntended for use in a Jupyter environment.\u001b[39;00m\n\u001b[1;32m    157\u001b[0m \u001b[38;5;124;03m\"\"\"\u001b[39;00m\n\u001b[1;32m    158\u001b[0m \u001b[38;5;28;01mif\u001b[39;00m \u001b[38;5;129;01mnot\u001b[39;00m has_jupyter_extra():\n\u001b[0;32m--> 159\u001b[0m     \u001b[38;5;28;01mraise\u001b[39;00m \u001b[38;5;167;01mImportError\u001b[39;00m(\n\u001b[1;32m    160\u001b[0m         \u001b[38;5;124m\"\u001b[39m\u001b[38;5;124mInstall the Jupyter extra for pydeck with your package manager, e.g. `pip install pydeck[jupyter]`\u001b[39m\u001b[38;5;124m\"\u001b[39m\n\u001b[1;32m    161\u001b[0m     )\n\u001b[1;32m    162\u001b[0m \u001b[38;5;28mself\u001b[39m\u001b[38;5;241m.\u001b[39mdeck_widget\u001b[38;5;241m.\u001b[39mjson_input \u001b[38;5;241m=\u001b[39m \u001b[38;5;28mself\u001b[39m\u001b[38;5;241m.\u001b[39mto_json()\n\u001b[1;32m    163\u001b[0m has_binary \u001b[38;5;241m=\u001b[39m \u001b[38;5;28;01mFalse\u001b[39;00m\n",
      "\u001b[0;31mImportError\u001b[0m: Install the Jupyter extra for pydeck with your package manager, e.g. `pip install pydeck[jupyter]`"
     ]
    }
   ],
   "source": [
    "# Render the initial map\n",
    "r = pdk.Deck(layers=[layer], initial_view_state=view_state)\n",
    "r.to_html(\"trips_layer.html\")\n",
    "\n",
    "for ct in range(time_min, time_max, 100):\n",
    "    layer.current_time = ct\n",
    "    r.update()\n",
    "    time.sleep(0.1)"
   ]
  },
  {
   "cell_type": "code",
   "execution_count": null,
   "id": "4d758519-b108-4403-904f-221e50d73809",
   "metadata": {},
   "outputs": [],
   "source": []
  }
 ],
 "metadata": {
  "kernelspec": {
   "display_name": "Python 3 (ipykernel)",
   "language": "python",
   "name": "python3"
  },
  "language_info": {
   "codemirror_mode": {
    "name": "ipython",
    "version": 3
   },
   "file_extension": ".py",
   "mimetype": "text/x-python",
   "name": "python",
   "nbconvert_exporter": "python",
   "pygments_lexer": "ipython3",
   "version": "3.13.0"
  }
 },
 "nbformat": 4,
 "nbformat_minor": 5
}
